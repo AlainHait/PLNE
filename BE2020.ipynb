{
 "cells": [
  {
   "cell_type": "markdown",
   "metadata": {
    "ein.tags": "worksheet-0",
    "slideshow": {
     "slide_type": "-"
    }
   },
   "source": [
    "# Programmation linéaire"
   ]
  },
  {
   "cell_type": "markdown",
   "metadata": {
    "ein.tags": "worksheet-0",
    "slideshow": {
     "slide_type": "-"
    }
   },
   "source": [
    "<div class=\"alert alert-danger\">\n",
    "Attention: veillez à exécuter (CTRL-ENTREE) les portions de code dans l'ordre où elles apparaissent.\n",
    "    \n",
    "Pour écrire vos réponses dans des cellules de texte, double-cliquez dessus.\n",
    "<div>"
   ]
  },
  {
   "cell_type": "markdown",
   "metadata": {},
   "source": [
    "### Binôme:\n",
    "> 1. Nom Prénom groupe:\n",
    "> 2. Nom Prénom groupe:\n"
   ]
  },
  {
   "cell_type": "markdown",
   "metadata": {
    "ein.tags": "worksheet-0",
    "slideshow": {
     "slide_type": "-"
    }
   },
   "source": [
    "## Exercice 1\n",
    "\n",
    "Considérons le problème de programmation linéaire suivant:\n",
    "\n",
    "\\begin{alignat*}{3}\n",
    "(\\mathcal{P})\\qquad\\qquad \\max z=4 x_1 &+3x_2 &&\\\\\n",
    "\\text{Sous les contraintes}& &&\\\\\n",
    "x_1& &&\\leq \\hphantom{1}8 \\qquad (1)\\\\\n",
    "x_1 &+2x_2 &&\\leq 15 \\qquad (2)\\\\\n",
    "2x_1 &+\\hphantom{2}x_2 &&\\leq 18 \\qquad (3)\\\\\n",
    "& \\hphantom{+\\_2}x_j &&\\geq \\hphantom{1}0 \\qquad j = 1,2.\n",
    "\\end{alignat*}\n",
    "\n",
    "Le problème est écrit sous *forme canonique*: maximisation sous contraintes inégalités $\\leq$ et variables positives ou nulles.\n",
    "\n",
    "### 1. Ensemble des solutions admissibles\n",
    "\n",
    "Dans le code Python ci-dessous, la classe `LPVisu()` permet de tracer l'ensemble des solutions admissibles du problème. Il correspond à l'intersection des demi-espaces définis par les contraintes du problème.\n",
    "\n",
    "Le problème est énoncé sous la forme \n",
    "\\begin{alignat*}{3}\n",
    "\\max z&=c^T x\\\\\n",
    "\\text{Sous les contraintes}&\\\\\n",
    "Ax &\\leq b \\\\\n",
    "x_j &\\geq 0 \\qquad j = 1,2.\n",
    "\\end{alignat*}\n",
    "\n",
    "La matrice `A` est ici la matrice des coefficients associés aux variables $x_1$ et $x_2$ dans les contraintes (1), (2) et (3). Le vecteur `b` correspond à la partie droite des contraintes et le vecteur `c` aux coefficients des variables dans la fonction objectif."
   ]
  },
  {
   "cell_type": "markdown",
   "metadata": {
    "ein.tags": "worksheet-0",
    "slideshow": {
     "slide_type": "-"
    }
   },
   "source": [
    "<div class=\"alert alert-warning\">\n",
    "Exécutez (CTRL-ENTREE) le code ci-dessous.  \n",
    "\n",
    "Dans le code donné, seule la contrainte (2) a été représentée. Modifiez la définition des paramètres A, b et c pour faire apparaître l'ensemble des solutions admissibles du problème.\n",
    "</div>"
   ]
  },
  {
   "cell_type": "code",
   "execution_count": null,
   "metadata": {
    "autoscroll": false,
    "ein.hycell": false,
    "ein.tags": "worksheet-0",
    "slideshow": {
     "slide_type": "-"
    }
   },
   "outputs": [],
   "source": [
    "%matplotlib inline\n",
    "from lp_visu import LPVisu\n",
    "\n",
    "# problem definition\n",
    "A = [[1.0, 2.0]]\n",
    "b = [15.0]\n",
    "c = [4.0, 3.0]\n",
    "\n",
    "x1_bounds     = (0, None)\n",
    "x2_bounds     = (0, None)\n",
    "\n",
    "# GUI bounds\n",
    "x1_gui_bounds = (-1, 16)\n",
    "x2_gui_bounds = (-1, 10)\n",
    "\n",
    "visu = LPVisu(A, b, c,\n",
    "              x1_bounds, x2_bounds,\n",
    "              x1_gui_bounds, x2_gui_bounds,\n",
    "              scale = 0.8)"
   ]
  },
  {
   "cell_type": "markdown",
   "metadata": {
    "ein.tags": "worksheet-0",
    "slideshow": {
     "slide_type": "-"
    }
   },
   "source": [
    "Les sommets du polyèdre sont les points situés à l'intersection de deux bornes de contraintes inégalités (dans $\\mathbb{R}^2$, si on était dans $\\mathbb{R}^n$ il faudrait $n$ contraintes). Ils doivent en plus respecter toutes les autres contraintes pour être un sommet du polyèdre."
   ]
  },
  {
   "cell_type": "markdown",
   "metadata": {
    "ein.tags": "worksheet-0",
    "slideshow": {
     "slide_type": "-"
    }
   },
   "source": [
    "<div class=\"alert alert-warning\">\n",
    "Dans l'exemple étudié, donnez le nombre d'intersections et le nombre de sommets du polyèdre.\n",
    "</div>"
   ]
  },
  {
   "cell_type": "markdown",
   "metadata": {
    "ein.tags": "worksheet-0",
    "slideshow": {
     "slide_type": "-"
    }
   },
   "source": [
    "Réponse:\n",
    "   > Nombre d'intersections:\n",
    "   \n",
    "   > Nombre de sommets:"
   ]
  },
  {
   "cell_type": "markdown",
   "metadata": {
    "ein.tags": "worksheet-0",
    "slideshow": {
     "slide_type": "-"
    }
   },
   "source": [
    "### 2. Résolution graphique\n",
    "\n",
    "Dans ce problème de maximisation, on doit trouver le(s) point(s) de l'ensemble des solutions admissibles qui donnent la plus grande valeur du critère $z=c^Tx$. Nous avons vu en cours que si une solution optimale existe, au moins un sommet du polyèdre est solution optimale."
   ]
  },
  {
   "cell_type": "markdown",
   "metadata": {
    "ein.tags": "worksheet-0",
    "slideshow": {
     "slide_type": "-"
    }
   },
   "source": [
    "<div class=\"alert alert-warning\">\n",
    "Ajouter l'argument `obj` à `LPVisu()` permet de tracer, pour une valeur donnée $z_0$, la droite des points $x$ tels que $c^Tx=z_0$ (en rouge sur le graphique). Faites varier la valeur de $z_0$ afin de déterminer graphiquement la solution optimale du problème.\n",
    "</div>"
   ]
  },
  {
   "cell_type": "code",
   "execution_count": null,
   "metadata": {
    "autoscroll": false,
    "ein.hycell": false,
    "ein.tags": "worksheet-0",
    "slideshow": {
     "slide_type": "-"
    }
   },
   "outputs": [],
   "source": [
    "z0=15\n",
    "\n",
    "visu = LPVisu(A, b, c,\n",
    "              x1_bounds, x2_bounds,\n",
    "              x1_gui_bounds, x2_gui_bounds,\n",
    "              scale = 0.8,\n",
    "              obj = z0)"
   ]
  },
  {
   "cell_type": "markdown",
   "metadata": {
    "ein.tags": "worksheet-0",
    "slideshow": {
     "slide_type": "-"
    }
   },
   "source": [
    "Réponse:\n",
    "   > Sommet optimal: \n",
    "   \n",
    "   > Contraintes saturées au sommet optimal:\n",
    "   \n",
    "   > Contraintes non saturées au sommet optimal et marges associées:\n",
    "   \n",
    "   > Valeur du critère optimal $z^*$:"
   ]
  },
  {
   "cell_type": "markdown",
   "metadata": {
    "ein.tags": "worksheet-0",
    "slideshow": {
     "slide_type": "-"
    }
   },
   "source": [
    "### 3. Passage en forme standard\n",
    "\n",
    "Afin de décrire le problème à l'aide de contraintes égalités, nous allons modifier les contraintes (1), (2) et (3) en ajoutant des variables d'écart. Nous allons donc **ajouter des colonnes** à la matrice $A$. Le nouveau problème s'écrit:\n",
    "\\begin{alignat*}{3}\n",
    "(\\mathcal{P})\\qquad\\qquad \\max z=c^Tx\\\\\n",
    "\\text{Sous les contraintes}&\\\\\n",
    "Ax &\\color{red}=\\color{black} b\\\\\n",
    "\\hphantom{A}x &\\geq \\hphantom{1}0\n",
    "\\end{alignat*}\n",
    "\n",
    "où $A$ est désormais une matrice de dimensions $m\\times p$ et $c$ et $x$ des vecteurs de dimension $p$."
   ]
  },
  {
   "cell_type": "markdown",
   "metadata": {
    "ein.tags": "worksheet-0",
    "slideshow": {
     "slide_type": "-"
    }
   },
   "source": [
    "<div class=\"alert alert-warning\">\n",
    "Transformez les contraintes inégalités (1), (2) et (3) en contraintes égalités en ajoutant des variables d'écart.\n",
    "\n",
    "Donnez ci-dessous la nouvelle matrice $A$ et le nouveau vecteur $c$.\n",
    "Exécutez le code de cette cellule.\n",
    "</div>"
   ]
  },
  {
   "cell_type": "code",
   "execution_count": 2,
   "metadata": {
    "autoscroll": false,
    "ein.hycell": false,
    "ein.tags": "worksheet-0",
    "slideshow": {
     "slide_type": "-"
    }
   },
   "outputs": [],
   "source": [
    "import numpy as np\n",
    "A = np.array([[1.0, 0.0], \n",
    "              [1.0, 2.0], \n",
    "              [2.0, 1.0]])\n",
    "b = np.array([8.0, 15.0, 18.0])\n",
    "c = np.array([4.0, 3.0])"
   ]
  },
  {
   "cell_type": "markdown",
   "metadata": {
    "ein.tags": "worksheet-0",
    "slideshow": {
     "slide_type": "-"
    }
   },
   "source": [
    "Dans cette partie, **on ne cherche pas à résoudre le problème**. On va juste parcourir quelques solutions de base pour les comparer.\n",
    "\n",
    "#### Base de départ\n",
    "\n",
    "Les colonnes ajoutées dans $A$ permettent de trouver une $base$, sous-matrice $m\\times m$ inversible de $A$. Cette base de départ, notée $B_0$ est évidente et se trouve déjà sous la forme d'une sous-matrice identité dans $A$.\n",
    "\n",
    "Le problème est donc déjà sous *forme simpliciale*. Pour trouver la solution de base associée, il suffit de fixer les valeurs des variables hors base à 0."
   ]
  },
  {
   "cell_type": "markdown",
   "metadata": {
    "ein.tags": "worksheet-0",
    "slideshow": {
     "slide_type": "-"
    }
   },
   "source": [
    "<div class=\"alert alert-warning\">\n",
    "Indiquez quelles sont les variables de base associées à $B_0$ et les variables hors base.\n",
    "    \n",
    "Donnez leurs valeurs à la solution de base (écrivez le vecteur $x$ en entier)\n",
    "    \n",
    "Donnez la valeur de l'objectif en ce point.\n",
    "</div>"
   ]
  },
  {
   "cell_type": "markdown",
   "metadata": {
    "ein.tags": "worksheet-0",
    "slideshow": {
     "slide_type": "-"
    }
   },
   "source": [
    "Réponse:\n",
    "   > Variables de base:\n",
    "   \n",
    "   > Variables hors base:\n",
    "\n",
    "   > Solution de base: x=\n",
    "   \n",
    "   > Valeur de la fonction objectif:"
   ]
  },
  {
   "cell_type": "markdown",
   "metadata": {
    "ein.tags": "worksheet-0",
    "slideshow": {
     "slide_type": "-"
    }
   },
   "source": [
    "#### Base quelconque\n",
    "\n",
    "Soit une base $B$ de la matrice $A$. On réorganise les colonnes de $A$ sous la forme $[B|N]$ (où $N$ représente donc les colonnes de $A$ qui ne sont pas dans la base $B$), ainsi que les lignes de $x$ sous la forme $x_B$ et $x_N$, variables de base et variables hors base. Le système s’écrit: \n",
    "$$Ax = Bx_B + Nx_N = b$$\n",
    "\n",
    "En multipliant de part et d'autre par $B^{-1}$, on obtient un système équivalent. Il est sous la forme simpliciale par rapport à la base $B$:\n",
    "$$x_B=B^{-1}b-B^{-1}Nx_N$$\n",
    "\n",
    "De la même manière, la fonction objectif $z=c^Tx$ se récrit:\n",
    "$$z=c_B^TB^{-1}b+(c_N^T-c_B^TB^{-1}N)x_N$$\n",
    "\n",
    "A la solution de base associée à $B$, les variables hors base $x_N$ sont **fixées à 0**. Les variables de base valent donc:\n",
    "$$x_B=B^{-1}b$$\n",
    "et la fonction objectif vaut:\n",
    "$$z=c_B^TB^{-1}b$$\n"
   ]
  },
  {
   "cell_type": "markdown",
   "metadata": {},
   "source": [
    "<div class=\"alert alert-warning\">\n",
    "Considérons la base $B_1$ correspondant aux colonnes 1, 2 et 4 de $A$. Le code ci-dessous calcule les valeurs de la solution de base associée à $B_1$ et de l'objectif correspondant.\n",
    "    \n",
    "Lisez puis exécutez le code ci-dessous sans le modifier.\n",
    "</div>"
   ]
  },
  {
   "cell_type": "code",
   "execution_count": null,
   "metadata": {
    "autoscroll": false,
    "ein.hycell": false,
    "ein.tags": "worksheet-0",
    "slideshow": {
     "slide_type": "-"
    }
   },
   "outputs": [],
   "source": [
    "import numpy.linalg as npla\n",
    "\n",
    "# Colonnes de la base\n",
    "col = [1,2,4]\n",
    "\n",
    "# Base: extraction des colonnes choisies dans la matrice A\n",
    "B1 = np.concatenate((A[0:,col[0]-1:col[0]],\n",
    "                     A[0:,col[1]-1:col[1]],\n",
    "                     A[0:,col[2]-1:col[2]]),axis=1)\n",
    "print(\"B1=\",B1)\n",
    "\n",
    "# Coefficients des variables de base dans la fonction objectif (extraction dans le vecteur c)\n",
    "cB1=np.concatenate((c[col[0]-1:col[0]],\n",
    "                    c[col[1]-1:col[1]],\n",
    "                    c[col[2]-1:col[2]]),axis=0)\n",
    "print(\"cB1=\",cB1)\n",
    "\n",
    "# Valeurs des variables de base à la solution de base\n",
    "xB1 = np.dot(npla.inv(B1),b)\n",
    "print(\"xB1=\",xB1)\n",
    "\n",
    "# Valeur de la fonction objectif à la solution de base\n",
    "zB1 = np.dot(cB1,xB1)\n",
    "print(\"zB1=\",zB1)"
   ]
  },
  {
   "cell_type": "markdown",
   "metadata": {
    "ein.tags": "worksheet-0",
    "slideshow": {
     "slide_type": "-"
    }
   },
   "source": [
    "Les variables de base sont $x_1$, $x_2$ et $x_4$ pour la base $B_1$. A la solution de base, leur valeur respective est 8, 2, 3. \n",
    "\n",
    "Les variables hors base $x_3$ et $x_5$ sont nulles à la solution de base. Ces deux variables sont les variables d'écart associées aux contraintes (1) et (3). Ainsi, on retrouve bien que cette solution de base correspond à un sommet du polyèdre, intersection des bornes des contraintes (1) et (3). En ce point la contrainte (2) n'est pas saturée, l'écart à sa borne vaut $x_4=3$.\n",
    "\n",
    "Repérez ce point sur le graphique de la question 1."
   ]
  },
  {
   "cell_type": "markdown",
   "metadata": {
    "ein.tags": "worksheet-0",
    "slideshow": {
     "slide_type": "-"
    }
   },
   "source": [
    "<div class=\"alert alert-warning\">\n",
    "Refaites le calcul pour la base $B_2$ correspondant aux colonnes 1, 2 et 5 de $A$. Utilisez la cellule de code ci-dessous.  \n",
    "\n",
    "Donnez les résultats et commentez-les (aidez-vous du tracé de l'ensemble des solutions admissibles).\n",
    "</div>"
   ]
  },
  {
   "cell_type": "code",
   "execution_count": null,
   "metadata": {
    "autoscroll": false,
    "ein.hycell": false,
    "ein.tags": "worksheet-0",
    "slideshow": {
     "slide_type": "-"
    }
   },
   "outputs": [],
   "source": [
    "# Colonnes de la base\n",
    "col = []\n",
    "\n",
    "B2 = np.concatenate((A[0:,col[0]-1:col[0]],\n",
    "                     A[0:,col[1]-1:col[1]],\n",
    "                     A[0:,col[2]-1:col[2]]),axis=1)\n",
    "print(\"B2=\",B2)\n",
    "\n",
    "cB2=np.concatenate((c[col[0]-1:col[0]],\n",
    "                    c[col[1]-1:col[1]],\n",
    "                    c[col[2]-1:col[2]]),axis=0)\n",
    "print(\"cB2=\",cB2)\n",
    "\n",
    "xB2 = np.dot(npla.inv(B2),b)\n",
    "print(\"xB2=\",xB2)\n",
    "\n",
    "zB2 = np.dot(cB2,xB2)\n",
    "print(\"zB2=\",zB2)"
   ]
  },
  {
   "cell_type": "markdown",
   "metadata": {
    "ein.tags": "worksheet-0",
    "slideshow": {
     "slide_type": "-"
    }
   },
   "source": [
    "Réponse: "
   ]
  },
  {
   "cell_type": "markdown",
   "metadata": {
    "ein.tags": "worksheet-0",
    "slideshow": {
     "slide_type": "-"
    }
   },
   "source": [
    "<div class=\"alert alert-warning\">\n",
    "Refaites le calcul pour la base $B_3$ correspondant aux colonnes 2, 4 et 5 de $A$. Utilisez la cellule de code ci-dessous.  \n",
    "\n",
    "Donnez les résultats et commentez-les (aidez-vous du tracé de l'ensemble des solutions admissibles).\n",
    "</div>"
   ]
  },
  {
   "cell_type": "code",
   "execution_count": null,
   "metadata": {
    "autoscroll": false,
    "ein.hycell": false,
    "ein.tags": "worksheet-0",
    "slideshow": {
     "slide_type": "-"
    }
   },
   "outputs": [],
   "source": [
    "# Colonnes de la base\n",
    "col = []\n",
    "\n",
    "B3 = np.concatenate((A[0:,col[0]-1:col[0]],\n",
    "                     A[0:,col[1]-1:col[1]],\n",
    "                     A[0:,col[2]-1:col[2]]),axis=1)\n",
    "print(\"B3=\",B3)\n",
    "\n",
    "cB3=np.concatenate((c[col[0]-1:col[0]],\n",
    "                    c[col[1]-1:col[1]],\n",
    "                    c[col[2]-1:col[2]]),axis=0)\n",
    "print(\"cB3=\",cB3)\n",
    "\n",
    "xB3 = np.dot(npla.inv(B3),b)\n",
    "print(\"xB3=\",xB3)\n",
    "\n",
    "zB3 = np.dot(cB3,xB3)\n",
    "print(\"zB3=\",zB3)"
   ]
  },
  {
   "cell_type": "markdown",
   "metadata": {
    "ein.tags": "worksheet-0",
    "slideshow": {
     "slide_type": "-"
    }
   },
   "source": [
    "Quelle indication est-elle donnée par LinAlg ? A quoi cela correspond-il ?\n",
    "\n",
    "Situez sur le graphique de la question 1 le sommet défini par la base B3 et faites le lien avec la réponse obtenue.\n"
   ]
  },
  {
   "cell_type": "markdown",
   "metadata": {},
   "source": [
    "Réponse:"
   ]
  },
  {
   "cell_type": "markdown",
   "metadata": {
    "ein.tags": "worksheet-0",
    "slideshow": {
     "slide_type": "-"
    }
   },
   "source": [
    "<div class=\"alert alert-warning\">\n",
    "Combien de bases potentielles peut-on trouver dans la matrice A ? Est-ce cohérent avec le nombre d'intersections trouvé à la question 1 ?\n",
    "</div>"
   ]
  },
  {
   "cell_type": "markdown",
   "metadata": {
    "collapsed": true,
    "ein.tags": "worksheet-0",
    "slideshow": {
     "slide_type": "-"
    }
   },
   "source": [
    "Réponse:"
   ]
  },
  {
   "cell_type": "markdown",
   "metadata": {
    "ein.tags": "worksheet-0",
    "slideshow": {
     "slide_type": "-"
    }
   },
   "source": [
    "### 4. Résolution par l'algorithme du simplexe\n",
    "\n",
    "La bibliothèque `scipy` propose une fonction `linprog()` qui permet de résoudre des problèmes de programmation linéaire sous contraintes égalité et inégalité. Pour plus d'informations sur cette fonction, consulter la [documentation](http://docs.scipy.org/doc/scipy/reference/generated/scipy.optimize.linprog.html).\n",
    "\n",
    "Nous présentons ci-dessous la résolution de notre problème. Par simplicité, nous sommes revenus à la forme canonique, mais la forme standard marcherait aussi bien. La fonction `lp_simple_callback()` permet d'afficher les résultats intermédiaires, à chaque itération de l'algorithme du simplexe. L'argument `xk` de `LPVisu()` permet de visualiser le sommet courant.\n",
    "\n",
    "Le premier argument passé à `linprog()` est `-c`. En effet `linprog()` effectue par défaut une minimisation. Par conséquent, pour maximiser $z=c^Tx$, il faudra minimiser $-z=-c^Tx$.\n",
    "\n",
    "Les arguments A_ub et b_ub correspondent à la matrice $A$ et la partie droite des contraintes $b$ dans le cas de contraintes inégalités $\\leq$. D'autres arguments existent pour les contraintes égalités. Par défaut les variables sont considérées positives ou nulles."
   ]
  },
  {
   "cell_type": "markdown",
   "metadata": {},
   "source": [
    "<div class=\"alert alert-warning\">\n",
    "Lisez puis exécutez le code ci-dessous sans le modifier.\n",
    "</div>"
   ]
  },
  {
   "cell_type": "code",
   "execution_count": null,
   "metadata": {
    "autoscroll": false,
    "ein.hycell": false,
    "ein.tags": "worksheet-0",
    "scrolled": false,
    "slideshow": {
     "slide_type": "-"
    }
   },
   "outputs": [],
   "source": [
    "from scipy.optimize import linprog\n",
    "import numpy as np\n",
    "import math\n",
    "\n",
    "# Définition du problème\n",
    "A = [[1.0, 0.0], \n",
    "     [1.0, 2.0], \n",
    "     [2.0, 1.0]]\n",
    "b = [8.0, 15.0, 18.0]\n",
    "c = np.array([4.0, 3.0])\n",
    "\n",
    "# Bornes sur les valeurs des variables\n",
    "x1_bounds     = (0, None)\n",
    "x2_bounds     = (0, None)\n",
    "\n",
    "# Bornes pour l'affichage\n",
    "x1_gui_bounds = (-1, 16)\n",
    "x2_gui_bounds = (-1, 10)\n",
    "\n",
    "def lp_simple_callback(optimizeResult):\n",
    "    \"\"\"A simple callback function to see what is happening to print each\n",
    "    step of the algorithm and to use the visualization.\n",
    "\n",
    "    \"\"\"\n",
    "    if optimizeResult[\"phase\"]==1:\n",
    "        print(\"Itération \" + str(optimizeResult[\"nit\"]) + \":\")\n",
    "        print(\"Coordonnées du sommet courant: \" + str(optimizeResult[\"x\"]))\n",
    "        print(\"Variables d'écart: \" + str(optimizeResult[\"slack\"]))\n",
    "        print(\"Valeur de la fonction objectif: \" + str(-1*optimizeResult[\"fun\"]))\n",
    "\n",
    "        visu = LPVisu(A, b, c,\n",
    "                      x1_bounds, x2_bounds,\n",
    "                      x1_gui_bounds, x2_gui_bounds,\n",
    "                      scale = 0.6, pivot_scale = 2.0,\n",
    "                      xk = optimizeResult[\"x\"])\n",
    "\n",
    "# Résolution du problème\n",
    "res = linprog(-c, A_ub=A, b_ub=b, bounds = (x1_bounds, x2_bounds),\n",
    "              method='simplex',\n",
    "              callback=lp_simple_callback)\n",
    "\n",
    "print(res)"
   ]
  },
  {
   "cell_type": "markdown",
   "metadata": {
    "ein.tags": "worksheet-0",
    "slideshow": {
     "slide_type": "-"
    }
   },
   "source": [
    "<div class=\"alert alert-warning\">\n",
    "L'algorithme part du point (0,0), sommet correspondant à la solution de base associée à $B_0$, la base évidente que nous avions trouvée. Observez les résultats des itérations et suivez le cheminement du sommet courant.\n",
    "<div class>"
   ]
  },
  {
   "cell_type": "markdown",
   "metadata": {
    "ein.tags": "worksheet-0",
    "slideshow": {
     "slide_type": "-"
    }
   },
   "source": [
    "### Stratégie de résolution\n",
    "\n",
    "Le temps de calcul de l'algorithme du simplexe est lié au nombre d'itérations (pivots) réalisés pour atteindre la solution optimale. A chaque itération, on se retrouve sur un sommet du polyèdre qui correspond à la solution de base courante. Si ce sommet n'est pas optimal, il faut pivoter pour changer de base et se déplacer vers un sommet voisin.\n",
    "\n",
    "Le guidage de la recherche vise à sélectionner le sommet voisin le plus prometteur, c'est-à-dire celui qui mènera le plus vite à la solution optimale. Pour cela, on utilise des *heuristiques* de choix. Deux heuristiques traditionnelles sont:\n",
    "* On fait entrer dans la base la variable qui a le plus fort coût réduit. Cela correspond à sélectionner l'arête du polyèdre qui va le plus dans la direction du gradient.\n",
    "* On fait entrer dans la base la variable qui mène au sommet qui possède la plus grande valeur de $z$. Remarque: cela oblige à calculer cette valeur pour chaque sommet voisin, ce qui consomme du temps de calcul.\n"
   ]
  },
  {
   "cell_type": "markdown",
   "metadata": {
    "ein.tags": "worksheet-0",
    "slideshow": {
     "slide_type": "-"
    }
   },
   "source": [
    "<div class=\"alert alert-warning\">\n",
    "Reprenez le schéma de la résolution par la fonction `linprog()` depuis le sommet initial. Y a-t-il un chemin permettant d'atteindre le sommet optimal plus rapidement ?\n",
    "<div class>"
   ]
  },
  {
   "cell_type": "markdown",
   "metadata": {
    "ein.tags": "worksheet-0",
    "slideshow": {
     "slide_type": "-"
    }
   },
   "source": [
    "Réponse: "
   ]
  },
  {
   "cell_type": "markdown",
   "metadata": {
    "ein.tags": "worksheet-0",
    "slideshow": {
     "slide_type": "-"
    }
   },
   "source": [
    "<div class=\"alert alert-warning\">\n",
    "A partir des éléments associés au tableau initial, déterminez le sommet sélectionné par chacune des heuristiques données ci-dessus.\n",
    "<div class>"
   ]
  },
  {
   "cell_type": "markdown",
   "metadata": {
    "ein.tags": "worksheet-0",
    "slideshow": {
     "slide_type": "-"
    }
   },
   "source": [
    "**Première heuristique:** comparaison des coûts réduits associés aux variables hors base."
   ]
  },
  {
   "cell_type": "markdown",
   "metadata": {
    "ein.tags": "worksheet-0",
    "slideshow": {
     "slide_type": "-"
    }
   },
   "source": [
    "Réponse: "
   ]
  },
  {
   "cell_type": "markdown",
   "metadata": {
    "ein.tags": "worksheet-0",
    "slideshow": {
     "slide_type": "-"
    }
   },
   "source": [
    "**Seconde heuristique:**\n",
    "> *Première possibilité: faire un pivot du simplexe comme vu en cours, en faisant entrer dans la base $x_1$ pour  trouver le nouveau sommet et la valeur de l'objectif, puis on recommencer en faisant entrer $x_2$ et on compare les deux sommets.*\n",
    "\n",
    "> *Sinon on peut réutiliser ce qui a été fait à la question 3 pour trouver les deux sommets et les comparer.*"
   ]
  },
  {
   "cell_type": "markdown",
   "metadata": {
    "ein.tags": "worksheet-0",
    "slideshow": {
     "slide_type": "-"
    }
   },
   "source": [
    "Réponse: "
   ]
  },
  {
   "cell_type": "markdown",
   "metadata": {
    "ein.tags": "worksheet-0",
    "slideshow": {
     "slide_type": "-"
    }
   },
   "source": [
    "## Exercice 2: fabrication d'un acier spécial\n",
    "\n",
    "[Prins & Sevaux 2011]\n",
    "\n",
    "L'entreprise Steel a reçu une commande de 5 tonnes d'acier spécial destiné à la fabrication de coques de bateaux. Cet acier doit avoir les caractéristiques particulières du tableau 1 ci-dessous:\n",
    "\n",
    "**Tableau 1: Caractéristiques de l'acier commandé**\n",
    "\n",
    "| Elément chimique | Pourcentage minimal | Pourcentage maximal |\n",
    "|------------------|:-------------------:|:-------------------:|\n",
    "| Carbone (C)      | 2                   | 3                   |\n",
    "| Cuivre (Cu)      | 0,4                 | 0,6                 |\n",
    "| Manganèse (Mn)   | 1,2                 | 1,65                |\n",
    "\n",
    "Pour fabriquer cet acier, Steel dispose de sept matières premières dont les caractéristiques, les quantités disponibles et les coûts d'achat sont donnés dans le tableau 2 ci-dessous. \n",
    "\n",
    "**Tableau 2: Caractéristiques, stocks et coûts d'achat des matières premières**\n",
    "\n",
    "| Matière première      |  C% | Cu%  | Mn% | Stock dispo (kg) | coût (€/kg) |\n",
    "|-----------------------|:---:|:----:|:---:|:----------------:|:-----------:|\n",
    "| Alliage de fer 1      | 2,5 | 0    | 1,3 | 4000             | 1,20        |\n",
    "| Alliage de fer 2      | 3   | 0    | 0,8 | 3000             | 1,50        |\n",
    "| Alliage de fer 3      | 0   | 0,3  | 0   | 6000             | 0,90        |\n",
    "| Alliage de cuivre 1   | 0   | 90   | 0   | 5000             | 1,30        |\n",
    "| Alliage de cuivre 2   | 0   | 96   | 4   | 2000             | 1,45        |\n",
    "| Alliage d'aluminium 1 | 0   | 0,4  | 1,2 | 3000             | 1,20        |\n",
    "| Alliage d'aluminium 2 | 0   | 0,6  | 0   | 2500             | 1,00        |\n",
    "\n",
    "On veut déterminer la composition de l'acier à fabriquer pour minimiser les coûts de production."
   ]
  },
  {
   "cell_type": "markdown",
   "metadata": {
    "ein.tags": "worksheet-0",
    "slideshow": {
     "slide_type": "-"
    }
   },
   "source": [
    "<div class=\"alert alert-warning\">\n",
    "Modéliser le problème en programmation linéaire. Pour cela:\n",
    "\n",
    "> 1. Choisissez des variables de décision\n",
    "\n",
    "> 2. Ecrivez la fonction objectif et les contraintes du problème\n",
    "\n",
    "<div class>"
   ]
  },
  {
   "cell_type": "markdown",
   "metadata": {
    "ein.tags": "worksheet-0",
    "slideshow": {
     "slide_type": "-"
    }
   },
   "source": [
    "Modèle:\n",
    "\n",
    "> Description des variables choisies: \n",
    "\n",
    "> Objectif:\n",
    "\n",
    "> Contraintes:"
   ]
  },
  {
   "cell_type": "markdown",
   "metadata": {},
   "source": [
    "<div class=\"alert alert-warning\">\n",
    "A l'aide de la fonction linprog() de scipy, résolvez le problème.\n",
    "\n",
    "Transformez les contraintes $\\geq$ en contraintes $\\leq$, puis agrégez toutes les contraintes inégalités afin de les passer ensemble par les arguments A_ub et b_ub de linprog. On se servira des différentes fonctions disponibles dans numpy (np.one, np.eye, np.transpose, np.r_, etc.)\n",
    "\n",
    "De même, utilisez les arguments A_eq et b_eq pour les contraintes égalités."
   ]
  },
  {
   "cell_type": "code",
   "execution_count": null,
   "metadata": {
    "autoscroll": false,
    "ein.hycell": false,
    "ein.tags": "worksheet-0",
    "slideshow": {
     "slide_type": "-"
    }
   },
   "outputs": [],
   "source": [
    "import numpy as np\n",
    "from scipy.optimize import linprog\n",
    "\n",
    "# Demande en acier\n",
    "D=5000.\n",
    "# Nombre d'éléments mesurés dans les caractéristiques\n",
    "ne = 3\n",
    "# Caractéristiques de l'acier (pourcentage min/max de chaque élément)\n",
    "Pmin=np.array([ 2, 0.4, 1.20])\n",
    "Pmax=np.array([ 3, 0.6, 1.65])\n",
    "\n",
    "# Nombre d'alliages disponibles\n",
    "na = 7\n",
    "# Caractéristiques des alliages (pourcentage de chaque élément)\n",
    "P = np.array(\n",
    "[[  2.5,   0. ,   1.3],\n",
    " [  3. ,   0. ,   0.8],\n",
    " [  0. ,   0.3,   0. ],\n",
    " [  0. ,  90. ,   0. ],\n",
    " [  0. ,  96. ,   4. ],\n",
    " [  0. ,   0.4,   1.2],\n",
    " [  0. ,   0.6,   0. ]])\n",
    "# Quantités disponibles des alliages\n",
    "QD = np.array([4000,3000,6000,5000,2000,3000,2500])\n",
    "# Coût des alliages\n",
    "C = np.array([1.2,1.5,0.9,1.3,1.45,1.2,1])\n"
   ]
  },
  {
   "cell_type": "markdown",
   "metadata": {
    "ein.tags": "worksheet-0",
    "slideshow": {
     "slide_type": "-"
    }
   },
   "source": [
    "Résultats:\n",
    "\n",
    "> Solution optimale: \n",
    "\n",
    "> Valeur du critère:\n",
    "\n",
    "Commentaires:"
   ]
  }
 ],
 "metadata": {
  "kernelspec": {
   "display_name": "Python 3",
   "language": "python",
   "name": "python3"
  },
  "language_info": {
   "codemirror_mode": {
    "name": "ipython",
    "version": 3
   },
   "file_extension": ".py",
   "mimetype": "text/x-python",
   "name": "python",
   "nbconvert_exporter": "python",
   "pygments_lexer": "ipython3",
   "version": "3.7.3"
  },
  "name": "BEPL_sol.ipynb"
 },
 "nbformat": 4,
 "nbformat_minor": 1
}
